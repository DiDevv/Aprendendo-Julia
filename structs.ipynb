{
 "cells": [
  {
   "cell_type": "code",
   "execution_count": 1,
   "id": "cc7754e2",
   "metadata": {},
   "outputs": [],
   "source": [
    "using Markdown"
   ]
  },
  {
   "cell_type": "markdown",
   "id": "bdd99595",
   "metadata": {
    "scrolled": true
   },
   "source": [
    "## Structs\n"
   ]
  },
  {
   "cell_type": "markdown",
   "id": "9704ec68",
   "metadata": {},
   "source": [
    "Em júlia, struct é um tipo de dado composto que permite agrupar variáveis sob um único nome. Vale lembrar que as structs são imutáveis, diferente das mutables structs.\n"
   ]
  },
  {
   "cell_type": "code",
   "execution_count": 6,
   "id": "b1e0b8aa",
   "metadata": {},
   "outputs": [],
   "source": [
    "struct Aluno\n",
    "\tname::String\n",
    "\tclass::String\n",
    "\tyear_of_birth::Int64\n",
    "\tpreviously_disapproved::Bool\n",
    "\tmean::Float64\n",
    "end"
   ]
  },
  {
   "cell_type": "markdown",
   "id": "3d7fe157",
   "metadata": {},
   "source": [
    " **Instanciando nossa struct Aluno**\n"
   ]
  },
  {
   "cell_type": "code",
   "execution_count": 8,
   "id": "ceaeeda2",
   "metadata": {},
   "outputs": [
    {
     "data": {
      "text/plain": [
       "Aluno(\"Pedro\", \"3º B\", 2006, false, 6.8)"
      ]
     },
     "execution_count": 8,
     "metadata": {},
     "output_type": "execute_result"
    }
   ],
   "source": [
    "aluno = Aluno(\"Pedro\", \"3º B\", 2006, false, 6.8)\n"
   ]
  },
  {
   "cell_type": "markdown",
   "id": "b577cb63",
   "metadata": {},
   "source": [
    "**Agora, assim como as tuplas em python, podemos acessar cada atributo da minha struct**\n"
   ]
  },
  {
   "cell_type": "code",
   "execution_count": 13,
   "id": "fad045f2",
   "metadata": {},
   "outputs": [
    {
     "name": "stdout",
     "output_type": "stream",
     "text": [
      "2006\n",
      "Pedro\n"
     ]
    }
   ],
   "source": [
    "println(aluno.year_of_birth)\n",
    "println(aluno.name)\n"
   ]
  },
  {
   "cell_type": "code",
   "execution_count": 14,
   "id": "113fa214",
   "metadata": {},
   "outputs": [
    {
     "name": "stdout",
     "output_type": "stream",
     "text": [
      "Pedro, você passará pela avaliação final. Boa sorte.\n"
     ]
    }
   ],
   "source": [
    "if aluno.mean >= 7\n",
    "    println(\"Parabéns \", aluno.name, \", você foi aprovado\")\n",
    "elseif aluno.mean < 7 && aluno.mean >= 4\n",
    "    println(aluno.name, \", você passará pela avaliação final. Boa sorte.\")\n",
    "else\n",
    "    println(\"Você foi reprovado\")\n",
    "end"
   ]
  },
  {
   "cell_type": "code",
   "execution_count": null,
   "id": "b9981e0d",
   "metadata": {},
   "outputs": [],
   "source": []
  }
 ],
 "metadata": {
  "kernelspec": {
   "display_name": "Julia 1.9.4",
   "language": "julia",
   "name": "julia-1.9"
  },
  "language_info": {
   "file_extension": ".jl",
   "mimetype": "application/julia",
   "name": "julia",
   "version": "1.9.4"
  }
 },
 "nbformat": 4,
 "nbformat_minor": 5
}
